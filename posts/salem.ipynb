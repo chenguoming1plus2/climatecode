{
 "cells": [
  {
   "cell_type": "markdown",
   "metadata": {},
   "source": [
    "# a quick look at the [salem](https://github.com/fmaussion/salem) library"
   ]
  },
  {
   "cell_type": "markdown",
   "metadata": {},
   "source": [
    "[Salem](https://github.com/fmaussion/salem) is a python library developed by [Fabien Maussion](http://fabienmaussion.info/), a researcher and lecturer at the Institute of Atmospheric and Cryospheric Sciences, at the University of Innsbruck.  \n",
    "\n",
    "<br> \n",
    "\n",
    "It extends [xarray](http://xarray.pydata.org/en/stable/) and adds notably geolocalised subsetting (via shapefiles), masking, and geographical mapping operations to xarray’s [DataArray](http://xarray.pydata.org/en/stable/data-structures.html#dataarray) [DataSet](http://xarray.pydata.org/en/stable/data-structures.html#) datasetdata structures.\n",
    "\n",
    "<br>\n",
    "\n",
    "It is still ayoung project, but has already proven extremely useful to me in a number of occasions, and I think it's the perfect illustration of how one can build clever and useful extensions build on the very powerful [xarray](http://xarray.pydata.org/en/stable/) data structures. I hope to be able to contribute to this project, and this post is intended to be a shoutout and acknowledgment of [Fabien Maussion](http://fabienmaussion.info/)'s work. \n",
    "\n",
    "<br>\n",
    "\n",
    "If you work in climate / ocean science and are already using (as you should !) xarray, [Salem](https://github.com/fmaussion/salem) is definitely worth a try\n",
    "\n",
    "<!-- TEASER_END -->"
   ]
  },
  {
   "cell_type": "markdown",
   "metadata": {},
   "source": [
    "### installation "
   ]
  },
  {
   "cell_type": "markdown",
   "metadata": {},
   "source": [
    "[Salem](https://github.com/fmaussion/salem) has a number of hard dependencies: what worked for me (*MacOS Sierra*) is to create a specific environment following\n",
    "    the instructions available [here](https://github.com/ioos/notebooks_demos/wiki/Installing-Conda-Python-with-the-IOOS-environment), then installing **Salem** in this \n",
    "    environment using pip and development version of Salem, via:  \n",
    "        \n",
    "        ```\n",
    "        pip install git+https://github.com/fmaussion/salem.git\n",
    "        ```"
   ]
  },
  {
   "cell_type": "code",
   "execution_count": 1,
   "metadata": {
    "collapsed": true
   },
   "outputs": [],
   "source": [
    "%matplotlib inline"
   ]
  },
  {
   "cell_type": "code",
   "execution_count": null,
   "metadata": {
    "collapsed": true
   },
   "outputs": [],
   "source": [
    "from matplotlib import pyplot as plt"
   ]
  },
  {
   "cell_type": "code",
   "execution_count": null,
   "metadata": {
    "collapsed": true
   },
   "outputs": [],
   "source": [
    "import numpy as np\n",
    "import xarray as xr"
   ]
  },
  {
   "cell_type": "code",
   "execution_count": null,
   "metadata": {
    "collapsed": true
   },
   "outputs": [],
   "source": [
    "import salem\n",
    "\n",
    "from salem.utils import get_demo_file\n",
    "\n",
    "ds = salem.open_xr_dataset(get_demo_file('wrfout_d01.nc'))"
   ]
  },
  {
   "cell_type": "code",
   "execution_count": null,
   "metadata": {
    "collapsed": true
   },
   "outputs": [],
   "source": [
    "t2 = ds.T2.isel(Time=2)"
   ]
  },
  {
   "cell_type": "code",
   "execution_count": null,
   "metadata": {
    "collapsed": false
   },
   "outputs": [],
   "source": [
    "shdf = salem.read_shapefile(get_demo_file('world_borders.shp'))"
   ]
  },
  {
   "cell_type": "code",
   "execution_count": null,
   "metadata": {
    "collapsed": false
   },
   "outputs": [],
   "source": [
    "t2.salem.quick_map(cmap=plt.cm.autumn_r)"
   ]
  },
  {
   "cell_type": "code",
   "execution_count": null,
   "metadata": {
    "collapsed": true
   },
   "outputs": [],
   "source": []
  },
  {
   "cell_type": "code",
   "execution_count": null,
   "metadata": {
    "collapsed": true
   },
   "outputs": [],
   "source": []
  }
 ],
 "metadata": {
  "anaconda-cloud": {},
  "kernelspec": {
   "display_name": "Python [default]",
   "language": "python",
   "name": "python3"
  },
  "language_info": {
   "codemirror_mode": {
    "name": "ipython",
    "version": 3
   },
   "file_extension": ".py",
   "mimetype": "text/x-python",
   "name": "python",
   "nbconvert_exporter": "python",
   "pygments_lexer": "ipython3",
   "version": "3.5.2"
  },
  "latex_envs": {
   "bibliofile": "biblio.bib",
   "cite_by": "apalike",
   "current_citInitial": 1,
   "eqLabelWithNumbers": true,
   "eqNumInitial": 0
  },
  "nav_menu": {},
  "nikola": {
   "category": "",
   "date": "2016-12-26 22:31:44 UTC+13:00",
   "description": "",
   "link": "",
   "slug": "salem",
   "tags": "",
   "title": "Salem",
   "type": "text"
  },
  "toc": {
   "colors": {
    "hover_highlight": "#DAA520",
    "running_highlight": "#FF0000",
    "selected_highlight": "#FFD700"
   },
   "moveMenuLeft": true,
   "nav_menu": {
    "height": "30px",
    "width": "252px"
   },
   "navigate_menu": true,
   "number_sections": true,
   "sideBar": true,
   "threshold": 6,
   "toc_cell": false,
   "toc_section_display": "block",
   "toc_window_display": false
  }
 },
 "nbformat": 4,
 "nbformat_minor": 1
}
